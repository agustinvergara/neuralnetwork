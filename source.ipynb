{
 "cells": [
  {
   "cell_type": "code",
   "execution_count": 19,
   "id": "67ba1d0d-6b4d-444d-9051-5cf942fcaa6e",
   "metadata": {},
   "outputs": [],
   "source": [
    "import numpy as np\n",
    "import pandas as pd \n",
    "from matplotlib import pyplot as plt"
   ]
  },
  {
   "cell_type": "markdown",
   "id": "5f48bab3-5a22-4739-b44f-a8cbc41f9f2e",
   "metadata": {},
   "source": [
    "### Importing and previewing the data"
   ]
  },
  {
   "cell_type": "code",
   "execution_count": 20,
   "id": "4a7ff29d-e388-4544-906c-4ea5c38d2d20",
   "metadata": {},
   "outputs": [],
   "source": [
    "data = pd.read_csv('~/Documents/neuralnetwork/train.csv')"
   ]
  },
  {
   "cell_type": "code",
   "execution_count": 21,
   "id": "efd02d7e-d798-44ca-a7c1-7cab137404f7",
   "metadata": {},
   "outputs": [
    {
     "data": {
      "text/html": [
       "<div>\n",
       "<style scoped>\n",
       "    .dataframe tbody tr th:only-of-type {\n",
       "        vertical-align: middle;\n",
       "    }\n",
       "\n",
       "    .dataframe tbody tr th {\n",
       "        vertical-align: top;\n",
       "    }\n",
       "\n",
       "    .dataframe thead th {\n",
       "        text-align: right;\n",
       "    }\n",
       "</style>\n",
       "<table border=\"1\" class=\"dataframe\">\n",
       "  <thead>\n",
       "    <tr style=\"text-align: right;\">\n",
       "      <th></th>\n",
       "      <th>label</th>\n",
       "      <th>pixel0</th>\n",
       "      <th>pixel1</th>\n",
       "      <th>pixel2</th>\n",
       "      <th>pixel3</th>\n",
       "      <th>pixel4</th>\n",
       "      <th>pixel5</th>\n",
       "      <th>pixel6</th>\n",
       "      <th>pixel7</th>\n",
       "      <th>pixel8</th>\n",
       "      <th>...</th>\n",
       "      <th>pixel774</th>\n",
       "      <th>pixel775</th>\n",
       "      <th>pixel776</th>\n",
       "      <th>pixel777</th>\n",
       "      <th>pixel778</th>\n",
       "      <th>pixel779</th>\n",
       "      <th>pixel780</th>\n",
       "      <th>pixel781</th>\n",
       "      <th>pixel782</th>\n",
       "      <th>pixel783</th>\n",
       "    </tr>\n",
       "  </thead>\n",
       "  <tbody>\n",
       "    <tr>\n",
       "      <th>0</th>\n",
       "      <td>1</td>\n",
       "      <td>0</td>\n",
       "      <td>0</td>\n",
       "      <td>0</td>\n",
       "      <td>0</td>\n",
       "      <td>0</td>\n",
       "      <td>0</td>\n",
       "      <td>0</td>\n",
       "      <td>0</td>\n",
       "      <td>0</td>\n",
       "      <td>...</td>\n",
       "      <td>0</td>\n",
       "      <td>0</td>\n",
       "      <td>0</td>\n",
       "      <td>0</td>\n",
       "      <td>0</td>\n",
       "      <td>0</td>\n",
       "      <td>0</td>\n",
       "      <td>0</td>\n",
       "      <td>0</td>\n",
       "      <td>0</td>\n",
       "    </tr>\n",
       "    <tr>\n",
       "      <th>1</th>\n",
       "      <td>0</td>\n",
       "      <td>0</td>\n",
       "      <td>0</td>\n",
       "      <td>0</td>\n",
       "      <td>0</td>\n",
       "      <td>0</td>\n",
       "      <td>0</td>\n",
       "      <td>0</td>\n",
       "      <td>0</td>\n",
       "      <td>0</td>\n",
       "      <td>...</td>\n",
       "      <td>0</td>\n",
       "      <td>0</td>\n",
       "      <td>0</td>\n",
       "      <td>0</td>\n",
       "      <td>0</td>\n",
       "      <td>0</td>\n",
       "      <td>0</td>\n",
       "      <td>0</td>\n",
       "      <td>0</td>\n",
       "      <td>0</td>\n",
       "    </tr>\n",
       "    <tr>\n",
       "      <th>2</th>\n",
       "      <td>1</td>\n",
       "      <td>0</td>\n",
       "      <td>0</td>\n",
       "      <td>0</td>\n",
       "      <td>0</td>\n",
       "      <td>0</td>\n",
       "      <td>0</td>\n",
       "      <td>0</td>\n",
       "      <td>0</td>\n",
       "      <td>0</td>\n",
       "      <td>...</td>\n",
       "      <td>0</td>\n",
       "      <td>0</td>\n",
       "      <td>0</td>\n",
       "      <td>0</td>\n",
       "      <td>0</td>\n",
       "      <td>0</td>\n",
       "      <td>0</td>\n",
       "      <td>0</td>\n",
       "      <td>0</td>\n",
       "      <td>0</td>\n",
       "    </tr>\n",
       "    <tr>\n",
       "      <th>3</th>\n",
       "      <td>4</td>\n",
       "      <td>0</td>\n",
       "      <td>0</td>\n",
       "      <td>0</td>\n",
       "      <td>0</td>\n",
       "      <td>0</td>\n",
       "      <td>0</td>\n",
       "      <td>0</td>\n",
       "      <td>0</td>\n",
       "      <td>0</td>\n",
       "      <td>...</td>\n",
       "      <td>0</td>\n",
       "      <td>0</td>\n",
       "      <td>0</td>\n",
       "      <td>0</td>\n",
       "      <td>0</td>\n",
       "      <td>0</td>\n",
       "      <td>0</td>\n",
       "      <td>0</td>\n",
       "      <td>0</td>\n",
       "      <td>0</td>\n",
       "    </tr>\n",
       "    <tr>\n",
       "      <th>4</th>\n",
       "      <td>0</td>\n",
       "      <td>0</td>\n",
       "      <td>0</td>\n",
       "      <td>0</td>\n",
       "      <td>0</td>\n",
       "      <td>0</td>\n",
       "      <td>0</td>\n",
       "      <td>0</td>\n",
       "      <td>0</td>\n",
       "      <td>0</td>\n",
       "      <td>...</td>\n",
       "      <td>0</td>\n",
       "      <td>0</td>\n",
       "      <td>0</td>\n",
       "      <td>0</td>\n",
       "      <td>0</td>\n",
       "      <td>0</td>\n",
       "      <td>0</td>\n",
       "      <td>0</td>\n",
       "      <td>0</td>\n",
       "      <td>0</td>\n",
       "    </tr>\n",
       "  </tbody>\n",
       "</table>\n",
       "<p>5 rows × 785 columns</p>\n",
       "</div>"
      ],
      "text/plain": [
       "   label  pixel0  pixel1  pixel2  pixel3  pixel4  pixel5  pixel6  pixel7  \\\n",
       "0      1       0       0       0       0       0       0       0       0   \n",
       "1      0       0       0       0       0       0       0       0       0   \n",
       "2      1       0       0       0       0       0       0       0       0   \n",
       "3      4       0       0       0       0       0       0       0       0   \n",
       "4      0       0       0       0       0       0       0       0       0   \n",
       "\n",
       "   pixel8  ...  pixel774  pixel775  pixel776  pixel777  pixel778  pixel779  \\\n",
       "0       0  ...         0         0         0         0         0         0   \n",
       "1       0  ...         0         0         0         0         0         0   \n",
       "2       0  ...         0         0         0         0         0         0   \n",
       "3       0  ...         0         0         0         0         0         0   \n",
       "4       0  ...         0         0         0         0         0         0   \n",
       "\n",
       "   pixel780  pixel781  pixel782  pixel783  \n",
       "0         0         0         0         0  \n",
       "1         0         0         0         0  \n",
       "2         0         0         0         0  \n",
       "3         0         0         0         0  \n",
       "4         0         0         0         0  \n",
       "\n",
       "[5 rows x 785 columns]"
      ]
     },
     "execution_count": 21,
     "metadata": {},
     "output_type": "execute_result"
    }
   ],
   "source": [
    "data.head()"
   ]
  },
  {
   "cell_type": "markdown",
   "id": "032562a2-ed64-4ac9-9f08-0c9f298da7b0",
   "metadata": {},
   "source": [
    "### Changing from a pd dataframe to a np array"
   ]
  },
  {
   "cell_type": "code",
   "execution_count": 22,
   "id": "1cf1a3b7-a401-4984-ba0c-7024debfd529",
   "metadata": {},
   "outputs": [],
   "source": [
    "data = np.array(data)"
   ]
  },
  {
   "cell_type": "markdown",
   "id": "d450a1be-6e91-4cef-8882-ea995e8bddb8",
   "metadata": {},
   "source": [
    "we dimention and shuffle the data"
   ]
  },
  {
   "cell_type": "code",
   "execution_count": 23,
   "id": "bc08ca3b-f31c-47ef-b89d-8dc9547859c4",
   "metadata": {},
   "outputs": [],
   "source": [
    "m, n = data.shape\n",
    "np.random.shuffle(data) # we shuffle before splitting into dev and training sets\n",
    "\n",
    "data_dev = data[0:1000].T\n",
    "Y_dev = data_dev[0]\n",
    "X_dev = data_dev[1:n]\n",
    "X_dev = X_dev / 255.\n",
    "\n",
    "data_train = data[1000:m].T\n",
    "Y_train = data_train[0]\n",
    "X_train = data_train[1:n]\n",
    "X_train = X_train / 255.\n",
    "_,m_train = X_train.shape"
   ]
  },
  {
   "cell_type": "markdown",
   "id": "8e74cbad-6171-4597-9100-25e67575a1e8",
   "metadata": {},
   "source": [
    "### Now that all the data is loaded we take a look (for example we take a look a the amount of pixels on our first column)"
   ]
  },
  {
   "cell_type": "code",
   "execution_count": 24,
   "id": "627d6051-ec85-4361-a968-5f993ac4ef7d",
   "metadata": {},
   "outputs": [
    {
     "data": {
      "text/plain": [
       "(784,)"
      ]
     },
     "execution_count": 24,
     "metadata": {},
     "output_type": "execute_result"
    }
   ],
   "source": [
    "X_train[:, 0].shape "
   ]
  },
  {
   "cell_type": "code",
   "execution_count": 25,
   "id": "9f8fb04b-4abf-4796-bcbf-952b5eaff66a",
   "metadata": {},
   "outputs": [
    {
     "data": {
      "text/plain": [
       "array([4, 2, 5, ..., 0, 7, 3])"
      ]
     },
     "execution_count": 25,
     "metadata": {},
     "output_type": "execute_result"
    }
   ],
   "source": [
    "Y_train"
   ]
  },
  {
   "cell_type": "markdown",
   "id": "aa65dbef-c816-44df-a0e5-b9f8ab42300e",
   "metadata": {},
   "source": [
    "### Initializing parameters"
   ]
  },
  {
   "cell_type": "code",
   "execution_count": 26,
   "id": "92fe804f-d780-4d8e-844b-45b521324055",
   "metadata": {},
   "outputs": [],
   "source": [
    " def init_params():\n",
    "    W1 = np.random.rand(10, 784) - 0.5 #making an array that generate a random values between -0.5 to 0.5 for each element in this array\n",
    "    b1 = np.random.rand(10, 1) - 0.5\n",
    "    W2 = np.random.rand(10, 10) - 0.5\n",
    "    b2 = np.random.rand(10, 1) - 0.5\n",
    "    return W1, b1, W2, b2"
   ]
  },
  {
   "cell_type": "markdown",
   "id": "89c86ed5-f814-4fb3-a284-9324f4222608",
   "metadata": {},
   "source": [
    "### Making a forward propagation"
   ]
  },
  {
   "cell_type": "code",
   "execution_count": 27,
   "id": "ef20f3cb-95a7-446f-9596-fb5b68afe13f",
   "metadata": {},
   "outputs": [],
   "source": [
    "def ReLU(Z):\n",
    "    return np.maximum(0, Z)\n",
    "\n",
    "def softmax(Z):\n",
    "    A = np.exp(Z) / sum(np.exp(Z))\n",
    "    return A\n",
    "\n",
    "def forward_prop(W1, b1, W2, b2, X):\n",
    "    Z1 = W1.dot(X) + b1\n",
    "    A1 = ReLU(Z1)\n",
    "    Z2 = W2.dot(A1) + b2\n",
    "    A2 = softmax(Z2)\n",
    "    return Z1, A1, Z2, A2\n",
    "\n",
    "def ReLU_deriv(Z):\n",
    "    return Z > 0 #If one element in Z is greater than 0 we return 1 and viceversa\n",
    "\n",
    "def one_hot(Y):\n",
    "    one_hot_Y = np.zeros((Y.size, Y.max() + 1))#this creates the correctly sized matix (10 output classes)\n",
    "    one_hot_Y[np.arange(Y.size), Y] = 1 #(we are indexing through one_hot_Y using arrays) for each row go to the column (Y) and set it to 1\n",
    "    one_hot_Y = one_hot_Y.T #Transpose, we do this because now each row is an example and we want each column to be an example\n",
    "    return one_hot_Y\n",
    "    \n",
    "def backward_prop(Z1, A1, Z2, A2, W1, W2, X, Y):\n",
    "    one_hot_Y = one_hot(Y)\n",
    "    dZ2 = A2 - one_hot_Y\n",
    "    dW2 = 1 / m * dZ2.dot(A1.T)\n",
    "    db2 = 1 / m * np.sum(dZ2)\n",
    "    dZ1 = W2.T.dot(dZ2) * ReLU_deriv(Z1)\n",
    "    dW1 = 1 / m * dZ1.dot(X.T)\n",
    "    db1 = 1 / m * np.sum(dZ1)\n",
    "    return dW1, db1, dW2, db2\n",
    "\n",
    "def update_params(W1, b1, W2, b2, dW1, db1, dW2, db2, alpha):\n",
    "    W1 = W1 - alpha * dW1\n",
    "    b1 = b1 - alpha * db1    \n",
    "    W2 = W2 - alpha * dW2  \n",
    "    b2 = b2 - alpha * db2    \n",
    "    return W1, b1, W2, b2"
   ]
  },
  {
   "cell_type": "markdown",
   "id": "3f645a05-ae78-43ce-8e11-327597f9cbe3",
   "metadata": {},
   "source": [
    "### Creating a gradient descent"
   ]
  },
  {
   "cell_type": "code",
   "execution_count": 28,
   "id": "ec02e12f-c366-41c8-81be-e822132d3884",
   "metadata": {},
   "outputs": [],
   "source": [
    "def get_predictions(A2):\n",
    "    return np.argmax(A2, 0)\n",
    "\n",
    "def get_accuracy(predictions, Y):\n",
    "    print(predictions, Y)\n",
    "    return np.sum(predictions == Y) / Y.size\n",
    "\n",
    "def gradient_descent(X, Y, alpha, iterations):\n",
    "    W1, b1, W2, b2 = init_params()\n",
    "    for i in range(iterations):\n",
    "        Z1, A1, Z2, A2 = forward_prop(W1, b1, W2, b2, X)\n",
    "        dW1, db1, dW2, db2 = backward_prop(Z1, A1, Z2, A2, W1, W2, X, Y)\n",
    "        W1, b1, W2, b2 = update_params(W1, b1, W2, b2, dW1, db1, dW2, db2, alpha)\n",
    "        if i % 10 == 0:\n",
    "            print(\"Iteration: \", i) #print the iteration\n",
    "            predictions = get_predictions(A2) #get the predictions\n",
    "            print(\"Accuracy: \", get_accuracy(predictions, Y)) #print the prediction accuracy\n",
    "    return W1, b1, W2, b2"
   ]
  },
  {
   "cell_type": "markdown",
   "id": "bb448dd4-18fc-4b78-b755-b76c138c314f",
   "metadata": {},
   "source": [
    "## Time to train!"
   ]
  },
  {
   "cell_type": "code",
   "execution_count": 29,
   "id": "560451c3-484a-4755-9030-15b799eb213b",
   "metadata": {
    "scrolled": true
   },
   "outputs": [
    {
     "name": "stdout",
     "output_type": "stream",
     "text": [
      "Iteration:  0\n",
      "[4 6 6 ... 4 8 4] [4 2 5 ... 0 7 3]\n",
      "Accuracy:  0.11585365853658537\n",
      "Iteration:  10\n",
      "[4 6 0 ... 5 1 5] [4 2 5 ... 0 7 3]\n",
      "Accuracy:  0.19585365853658537\n",
      "Iteration:  20\n",
      "[4 6 5 ... 5 1 5] [4 2 5 ... 0 7 3]\n",
      "Accuracy:  0.2600487804878049\n",
      "Iteration:  30\n",
      "[4 6 5 ... 5 2 5] [4 2 5 ... 0 7 3]\n",
      "Accuracy:  0.3694878048780488\n",
      "Iteration:  40\n",
      "[4 6 5 ... 5 2 3] [4 2 5 ... 0 7 3]\n",
      "Accuracy:  0.4571707317073171\n",
      "Iteration:  50\n",
      "[4 6 5 ... 5 8 3] [4 2 5 ... 0 7 3]\n",
      "Accuracy:  0.5176585365853659\n",
      "Iteration:  60\n",
      "[5 6 5 ... 4 8 3] [4 2 5 ... 0 7 3]\n",
      "Accuracy:  0.5661951219512195\n",
      "Iteration:  70\n",
      "[5 6 5 ... 5 8 3] [4 2 5 ... 0 7 3]\n",
      "Accuracy:  0.6176585365853658\n",
      "Iteration:  80\n",
      "[5 6 5 ... 5 8 3] [4 2 5 ... 0 7 3]\n",
      "Accuracy:  0.655390243902439\n",
      "Iteration:  90\n",
      "[5 6 5 ... 3 8 3] [4 2 5 ... 0 7 3]\n",
      "Accuracy:  0.6855365853658537\n",
      "Iteration:  100\n",
      "[5 6 5 ... 3 8 3] [4 2 5 ... 0 7 3]\n",
      "Accuracy:  0.7081463414634146\n",
      "Iteration:  110\n",
      "[5 6 5 ... 3 8 3] [4 2 5 ... 0 7 3]\n",
      "Accuracy:  0.7271463414634146\n",
      "Iteration:  120\n",
      "[5 6 5 ... 5 8 3] [4 2 5 ... 0 7 3]\n",
      "Accuracy:  0.7427073170731707\n",
      "Iteration:  130\n",
      "[5 6 5 ... 5 8 3] [4 2 5 ... 0 7 3]\n",
      "Accuracy:  0.7553414634146342\n",
      "Iteration:  140\n",
      "[5 6 5 ... 5 8 3] [4 2 5 ... 0 7 3]\n",
      "Accuracy:  0.7661463414634146\n",
      "Iteration:  150\n",
      "[5 6 5 ... 5 2 3] [4 2 5 ... 0 7 3]\n",
      "Accuracy:  0.7753658536585366\n",
      "Iteration:  160\n",
      "[5 6 5 ... 5 2 3] [4 2 5 ... 0 7 3]\n",
      "Accuracy:  0.782390243902439\n",
      "Iteration:  170\n",
      "[5 6 5 ... 5 2 3] [4 2 5 ... 0 7 3]\n",
      "Accuracy:  0.7897317073170732\n",
      "Iteration:  180\n",
      "[5 6 5 ... 5 2 3] [4 2 5 ... 0 7 3]\n",
      "Accuracy:  0.7951707317073171\n",
      "Iteration:  190\n",
      "[5 6 5 ... 5 2 3] [4 2 5 ... 0 7 3]\n",
      "Accuracy:  0.801439024390244\n",
      "Iteration:  200\n",
      "[4 6 5 ... 5 2 3] [4 2 5 ... 0 7 3]\n",
      "Accuracy:  0.806\n",
      "Iteration:  210\n",
      "[4 6 5 ... 5 2 3] [4 2 5 ... 0 7 3]\n",
      "Accuracy:  0.8099268292682927\n",
      "Iteration:  220\n",
      "[4 2 5 ... 5 2 3] [4 2 5 ... 0 7 3]\n",
      "Accuracy:  0.814\n",
      "Iteration:  230\n",
      "[4 2 5 ... 5 2 3] [4 2 5 ... 0 7 3]\n",
      "Accuracy:  0.817780487804878\n",
      "Iteration:  240\n",
      "[4 2 5 ... 5 2 3] [4 2 5 ... 0 7 3]\n",
      "Accuracy:  0.8209512195121951\n",
      "Iteration:  250\n",
      "[4 2 5 ... 5 2 3] [4 2 5 ... 0 7 3]\n",
      "Accuracy:  0.8241219512195121\n",
      "Iteration:  260\n",
      "[4 2 5 ... 5 2 3] [4 2 5 ... 0 7 3]\n",
      "Accuracy:  0.8266585365853658\n",
      "Iteration:  270\n",
      "[4 2 5 ... 5 2 3] [4 2 5 ... 0 7 3]\n",
      "Accuracy:  0.8292682926829268\n",
      "Iteration:  280\n",
      "[4 2 5 ... 5 2 3] [4 2 5 ... 0 7 3]\n",
      "Accuracy:  0.831780487804878\n",
      "Iteration:  290\n",
      "[4 2 5 ... 5 2 3] [4 2 5 ... 0 7 3]\n",
      "Accuracy:  0.8336341463414634\n",
      "Iteration:  300\n",
      "[4 2 5 ... 5 2 3] [4 2 5 ... 0 7 3]\n",
      "Accuracy:  0.8355365853658536\n",
      "Iteration:  310\n",
      "[4 2 5 ... 5 2 3] [4 2 5 ... 0 7 3]\n",
      "Accuracy:  0.8379024390243902\n",
      "Iteration:  320\n",
      "[4 2 5 ... 5 2 3] [4 2 5 ... 0 7 3]\n",
      "Accuracy:  0.8397560975609756\n",
      "Iteration:  330\n",
      "[4 2 5 ... 5 2 3] [4 2 5 ... 0 7 3]\n",
      "Accuracy:  0.8416585365853658\n",
      "Iteration:  340\n",
      "[4 2 5 ... 5 2 3] [4 2 5 ... 0 7 3]\n",
      "Accuracy:  0.8433658536585366\n",
      "Iteration:  350\n",
      "[4 2 5 ... 5 2 3] [4 2 5 ... 0 7 3]\n",
      "Accuracy:  0.844780487804878\n",
      "Iteration:  360\n",
      "[4 2 5 ... 5 2 3] [4 2 5 ... 0 7 3]\n",
      "Accuracy:  0.8462926829268292\n",
      "Iteration:  370\n",
      "[4 2 5 ... 5 2 3] [4 2 5 ... 0 7 3]\n",
      "Accuracy:  0.8477560975609756\n",
      "Iteration:  380\n",
      "[4 2 5 ... 5 2 3] [4 2 5 ... 0 7 3]\n",
      "Accuracy:  0.8488536585365853\n",
      "Iteration:  390\n",
      "[4 2 5 ... 5 2 3] [4 2 5 ... 0 7 3]\n",
      "Accuracy:  0.8502682926829268\n",
      "Iteration:  400\n",
      "[4 2 5 ... 5 2 3] [4 2 5 ... 0 7 3]\n",
      "Accuracy:  0.8514634146341463\n",
      "Iteration:  410\n",
      "[4 2 5 ... 5 2 3] [4 2 5 ... 0 7 3]\n",
      "Accuracy:  0.853\n",
      "Iteration:  420\n",
      "[4 2 5 ... 5 2 3] [4 2 5 ... 0 7 3]\n",
      "Accuracy:  0.8541463414634146\n",
      "Iteration:  430\n",
      "[4 2 5 ... 5 2 3] [4 2 5 ... 0 7 3]\n",
      "Accuracy:  0.8551707317073171\n",
      "Iteration:  440\n",
      "[4 2 5 ... 0 2 3] [4 2 5 ... 0 7 3]\n",
      "Accuracy:  0.8564146341463414\n",
      "Iteration:  450\n",
      "[4 2 5 ... 0 2 3] [4 2 5 ... 0 7 3]\n",
      "Accuracy:  0.8573170731707317\n",
      "Iteration:  460\n",
      "[4 2 5 ... 0 2 3] [4 2 5 ... 0 7 3]\n",
      "Accuracy:  0.8582195121951219\n",
      "Iteration:  470\n",
      "[4 2 5 ... 0 2 3] [4 2 5 ... 0 7 3]\n",
      "Accuracy:  0.8594878048780488\n",
      "Iteration:  480\n",
      "[4 2 5 ... 0 2 3] [4 2 5 ... 0 7 3]\n",
      "Accuracy:  0.8607073170731707\n",
      "Iteration:  490\n",
      "[4 2 5 ... 0 2 3] [4 2 5 ... 0 7 3]\n",
      "Accuracy:  0.8616585365853658\n"
     ]
    }
   ],
   "source": [
    "W1, b1, W2, b2 = gradient_descent(X_train, Y_train, 0.10, 500) "
   ]
  },
  {
   "cell_type": "markdown",
   "id": "2a3cdedf-b098-4f3e-a145-faa6af1a8465",
   "metadata": {},
   "source": [
    "### Lets create a function that test the predictions"
   ]
  },
  {
   "cell_type": "code",
   "execution_count": 30,
   "id": "ca2fc227-d27f-46f3-a4da-09fec11231f3",
   "metadata": {},
   "outputs": [],
   "source": [
    "def make_predictions(X, W1, b1, W2, b2):\n",
    "    _, _, _, A2 = forward_prop(W1, b1, W2, b2, X)\n",
    "    predictions = get_predictions(A2)\n",
    "    return predictions\n",
    "\n",
    "def test_prediction(index, W1, b1, W2, b2):\n",
    "    current_image = X_train[:, index, None]\n",
    "    prediction = make_predictions(X_train[:, index, None], W1, b1, W2, b2)\n",
    "    label = Y_train[index]\n",
    "    print(\"Prediction: \", prediction)\n",
    "    print(\"Label \", label)\n",
    "\n",
    "    current_image = current_image.reshape((28, 28)) * 255\n",
    "    plt.gray()\n",
    "    plt.imshow(current_image, interpolation='nearest')\n",
    "    plt.show()"
   ]
  },
  {
   "cell_type": "markdown",
   "id": "960a723b-eb4d-489d-bce8-b508cbdf4863",
   "metadata": {},
   "source": [
    "# Now we can test if the neural network does it's work"
   ]
  },
  {
   "cell_type": "code",
   "execution_count": 33,
   "id": "7dedf293-c318-4633-bbb4-b42a53cf7e2e",
   "metadata": {},
   "outputs": [
    {
     "name": "stdout",
     "output_type": "stream",
     "text": [
      "Prediction:  [8]\n",
      "Label  8\n"
     ]
    },
    {
     "data": {
      "image/png": "[encoded data removed]",
      "text/plain": [
       "<Figure size 640x480 with 1 Axes>"
      ]
     },
     "metadata": {},
     "output_type": "display_data"
    }
   ],
   "source": [
    "test_prediction(15, W1, b1, W2, b2)"
   ]
  },
  {
   "cell_type": "code",
   "execution_count": 34,
   "id": "e64bc089-2ab0-4763-9d6f-1d5c97db2f1c",
   "metadata": {},
   "outputs": [
    {
     "name": "stdout",
     "output_type": "stream",
     "text": [
      "Prediction:  [4]\n",
      "Label  4\n"
     ]
    },
    {
     "data": {
      "image/png": "[encoded data removed]",
      "text/plain": [
       "<Figure size 640x480 with 1 Axes>"
      ]
     },
     "metadata": {},
     "output_type": "display_data"
    }
   ],
   "source": [
    "test_prediction(0, W1, b1, W2, b2)"
   ]
  },
  {
   "cell_type": "markdown",
   "id": "0d2ba587-41e5-4de4-b97f-48145f2c63b7",
   "metadata": {},
   "source": [
    "# Here we can see that because the model have 85% accuracy and just one layer there can be errors on the prediction"
   ]
  },
  {
   "cell_type": "code",
   "execution_count": 35,
   "id": "a75b9273-b866-47bd-8542-84f9fdb2c0f9",
   "metadata": {},
   "outputs": [
    {
     "name": "stdout",
     "output_type": "stream",
     "text": [
      "Prediction:  [5]\n",
      "Label  3\n"
     ]
    },
    {
     "data": {
      "image/png": "[encoded data removed]",
      "text/plain": [
       "<Figure size 640x480 with 1 Axes>"
      ]
     },
     "metadata": {},
     "output_type": "display_data"
    }
   ],
   "source": [
    "test_prediction(12, W1, b1, W2, b2) "
   ]
  }
 ],
 "metadata": {
  "kernelspec": {
   "display_name": "Python 3 (ipykernel)",
   "language": "python",
   "name": "python3"
  },
  "language_info": {
   "codemirror_mode": {
    "name": "ipython",
    "version": 3
   },
   "file_extension": ".py",
   "mimetype": "text/x-python",
   "name": "python",
   "nbconvert_exporter": "python",
   "pygments_lexer": "ipython3",
   "version": "3.11.9"
  }
 },
 "nbformat": 4,
 "nbformat_minor": 5
}
